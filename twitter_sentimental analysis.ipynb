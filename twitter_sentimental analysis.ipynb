{
 "cells": [
  {
   "cell_type": "code",
   "execution_count": 1,
   "metadata": {},
   "outputs": [
    {
     "ename": "ModuleNotFoundError",
     "evalue": "No module named 'wordcloud'",
     "output_type": "error",
     "traceback": [
      "\u001b[1;31m---------------------------------------------------------------------------\u001b[0m",
      "\u001b[1;31mModuleNotFoundError\u001b[0m                       Traceback (most recent call last)",
      "\u001b[1;32m<ipython-input-1-7949632d42c8>\u001b[0m in \u001b[0;36m<module>\u001b[1;34m\u001b[0m\n\u001b[0;32m      6\u001b[0m '''WordNetLematizer is another method used to remove the ending .The main diff is Stemmer will not knowing the context , \n\u001b[0;32m      7\u001b[0m or actual meaning, but lemantizer will consider the dictonary meaning'''\n\u001b[1;32m----> 8\u001b[1;33m \u001b[1;32mfrom\u001b[0m \u001b[0mwordcloud\u001b[0m \u001b[1;32mimport\u001b[0m \u001b[0mWordCloud\u001b[0m\u001b[1;33m,\u001b[0m\u001b[0mImagColorGenerator\u001b[0m  \u001b[1;31m#used to create wordcloud\u001b[0m\u001b[1;33m\u001b[0m\u001b[1;33m\u001b[0m\u001b[0m\n\u001b[0m\u001b[0;32m      9\u001b[0m \u001b[1;32mfrom\u001b[0m \u001b[0mPIL\u001b[0m \u001b[1;32mimport\u001b[0m \u001b[0mImage\u001b[0m \u001b[1;31m#Used to get the image and convert to array\u001b[0m\u001b[1;33m\u001b[0m\u001b[1;33m\u001b[0m\u001b[0m\n\u001b[0;32m     10\u001b[0m \u001b[1;32mimport\u001b[0m \u001b[0mrequests\u001b[0m \u001b[1;31m# used for HTTP requests\u001b[0m\u001b[1;33m\u001b[0m\u001b[1;33m\u001b[0m\u001b[0m\n",
      "\u001b[1;31mModuleNotFoundError\u001b[0m: No module named 'wordcloud'"
     ]
    }
   ],
   "source": [
    "import pandas as pd\n",
    "import numpy as np\n",
    "import matplotlib.pyplot as plt\n",
    "import re #Regular Expression\n",
    "from nltk import PorterStemmer #Natural language kit used to remove the 'ing' ,'ly','s' etc\n",
    "'''WordNetLematizer is another method used to remove the ending .The main diff is Stemmer will not knowing the context , \n",
    "or actual meaning, but lemantizer will consider the dictonary meaning'''\n",
    "from wordcloud import WordCloud,ImagColorGenerator  #used to create wordcloud\n",
    "from PIL import Image #Used to get the image and convert to array\n",
    "import requests # used for HTTP requests \n",
    "import urllib"
   ]
  },
  {
   "cell_type": "code",
   "execution_count": null,
   "metadata": {},
   "outputs": [],
   "source": [
    "#NLTK - tokenisation, stemming,tagging,parsing etc.\n",
    "from nltk.tokenize import word_tokenize #used to tokenize the words\n",
    "#import nltk\n",
    "#nltk.download('punkt')"
   ]
  },
  {
   "cell_type": "code",
   "execution_count": null,
   "metadata": {},
   "outputs": [],
   "source": [
    "train_data=pd.read_csv('https://raw.githubusercontent.com/dD2405/Twitter_Sentiment_Analysis/master/train.csv')"
   ]
  },
  {
   "cell_type": "code",
   "execution_count": null,
   "metadata": {},
   "outputs": [],
   "source": [
    "#Generation copy of original file\n",
    "train_backup=train_data.copy()"
   ]
  },
  {
   "cell_type": "code",
   "execution_count": null,
   "metadata": {},
   "outputs": [],
   "source": [
    "train_data.head()"
   ]
  },
  {
   "cell_type": "code",
   "execution_count": null,
   "metadata": {},
   "outputs": [],
   "source": [
    "test_data=pd.read_csv('https://raw.githubusercontent.com/dD2405/Twitter_Sentiment_Analysis/master/test.csv')\n",
    "test_backup=test_data.copy()"
   ]
  },
  {
   "cell_type": "code",
   "execution_count": null,
   "metadata": {},
   "outputs": [],
   "source": [
    "test_data.head()\n"
   ]
  },
  {
   "cell_type": "code",
   "execution_count": null,
   "metadata": {},
   "outputs": [],
   "source": [
    "#Data Pre Processing\n",
    "#Combining train and test dataset \n",
    "#Other option is to add one more column where specify 'train' or 'test'\n",
    "data=train_data.append(test_data,ignore_index=True,sort=True)\n",
    "data.tail()"
   ]
  },
  {
   "cell_type": "code",
   "execution_count": null,
   "metadata": {},
   "outputs": [],
   "source": [
    "#Removing the Twitter handles @user, as this not contributing anything for labeling\n",
    "#Created function to remove unwnted pattern\n",
    "def remove_pattern(text,pattern):\n",
    "    pattern_list=re.findall(pattern,text)  #Find all patterns in the text and create a list of them like ['@user', '@user']\n",
    "    \n",
    "    for temp in pattern_list:\n",
    "        text=re.sub(temp,\"\",text) #substitute each pattern with \"\" in the text\n",
    "    return text\n",
    "    "
   ]
  },
  {
   "cell_type": "code",
   "execution_count": null,
   "metadata": {},
   "outputs": [],
   "source": [
    "#Method 1 -- tweet is first parameter and second parameter given in apply function \n",
    "data['modi_tweet']=data['tweet'].apply(remove_pattern,pattern='@[\\w]*')\n",
    "data.head()\n",
    "#Method 2 --using numpy.vectorize--To improve the speed compared to apply()\n",
    "#data['modi_tweet']=np.vectorize(remove_pattern)(data['tweet'],'@[\\w]*')"
   ]
  },
  {
   "cell_type": "code",
   "execution_count": null,
   "metadata": {},
   "outputs": [],
   "source": [
    "#Remove all special charcaters, numbers ,punctuations etc..\n",
    "#[^a-zA-Z#] --one charcater not in the list will be replaced by \" \"\n",
    "data['modi_tweet']=data['modi_tweet'].str.replace(\"[^a-zA-Z#]\",\" \")\n",
    "data.head()"
   ]
  },
  {
   "cell_type": "code",
   "execution_count": null,
   "metadata": {},
   "outputs": [],
   "source": [
    "data.head(20)"
   ]
  },
  {
   "cell_type": "code",
   "execution_count": null,
   "metadata": {},
   "outputs": [],
   "source": [
    "#Removing words which have max of 3 letters length. or we can say stopwords\n",
    "#Jion function will join the ' ' with each woord in the loop\n",
    "#split() function will spit the words based on space \n",
    "data['modi_tweet']=data['modi_tweet'].apply(lambda x:' '.join(w for w in x.split() if len(w)>3 ))\n",
    "data.head()\n",
    "'''The stop words can be removed from the document by using the stopwords package\n",
    "from nltk.corpus import stopwords\n",
    "stopwrds=set(stopwords.words('english'))\n",
    "words_without_stopwords=[w for w in x.spli() if w not in stopwrds]'''"
   ]
  },
  {
   "cell_type": "code",
   "execution_count": null,
   "metadata": {},
   "outputs": [],
   "source": [
    "ps=PorterStemmer()\n",
    "tokens=data['modi_tweet'].apply(lambda x:x.split()).apply(lambda x:[ps.stem(i) for i in x])\n",
    "tokens"
   ]
  },
  {
   "cell_type": "code",
   "execution_count": null,
   "metadata": {},
   "outputs": [],
   "source": [
    "for i in range(len(tokens)):\n",
    "    tokens[i]=' '.join(tokens[i])\n",
    "data['modi_tweet']=tokens\n",
    "data.head()"
   ]
  },
  {
   "cell_type": "code",
   "execution_count": null,
   "metadata": {},
   "outputs": [],
   "source": [
    "#Data Visualisation\n",
    "#Wordcloud is most commonly used method --- Here most freauent word s will disply in largesize\n",
    "#Get all label 0 (positive) words\n",
    "pos_words=' '.join(w for w in data['modi_tweet'][data['label']==0])\n",
    "pos_words"
   ]
  }
 ],
 "metadata": {
  "kernelspec": {
   "display_name": "Python 3",
   "language": "python",
   "name": "python3"
  },
  "language_info": {
   "codemirror_mode": {
    "name": "ipython",
    "version": 3
   },
   "file_extension": ".py",
   "mimetype": "text/x-python",
   "name": "python",
   "nbconvert_exporter": "python",
   "pygments_lexer": "ipython3",
   "version": "3.7.4"
  }
 },
 "nbformat": 4,
 "nbformat_minor": 2
}
