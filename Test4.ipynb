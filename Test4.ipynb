{
 "cells": [
  {
   "cell_type": "code",
   "execution_count": 1,
   "metadata": {},
   "outputs": [
    {
     "name": "stdout",
     "output_type": "stream",
     "text": [
      "[10. 20. 30. 40. 23. 34. 67. 12.  3.  2. 45.]\n",
      "   \n",
      "Mean : 26.0\n",
      "P-Value : 0.5179932500162374\n",
      "Accepting the null hypothesis\n"
     ]
    }
   ],
   "source": [
    "#t-test hypothesis testing\n",
    "from scipy.stats import ttest_1samp\n",
    "import numpy as np\n",
    "\n",
    "ages=np.genfromtxt(\"F:/ML-2019/Hypothesis/Test1.txt\")\n",
    "print(ages)\n",
    "print(\"   \")\n",
    "a_mean=np.mean(ages)\n",
    "print(\"Mean :\",a_mean)\n",
    "ttest,pval=ttest_1samp(ages,30)\n",
    "print('P-Value :',pval)\n",
    "\n",
    "if pval<0.05:\n",
    "    print('Regecting the null hypothesis')\n",
    "else :\n",
    "    print('Accepting the null hypothesis')\n",
    "    "
   ]
  },
  {
   "cell_type": "code",
   "execution_count": 3,
   "metadata": {},
   "outputs": [
    {
     "name": "stdout",
     "output_type": "stream",
     "text": [
      "week 1\n",
      "[ 1.  2.  3.  4.  5.  6.  7.  8.  9.  0. 11. 22. 33. 44.]\n",
      "week 2\n",
      "[ 2.  6. 55. 44.  7. 88. 66. 22. 44.  6.  7.  8.  9.]\n",
      "   \n",
      "w1_mean : 11.071428571428571\n",
      "w2_mean : 28.0\n",
      "   \n"
     ]
    }
   ],
   "source": [
    "week1=np.genfromtxt(\"F:/ML-2019/Hypothesis/Test2.txt\",delimiter=\",\")\n",
    "week2=np.genfromtxt(\"F:/ML-2019/Hypothesis/test3.txt\",delimiter=\",\")\n",
    "print(\"week 1\")\n",
    "print(week1)\n",
    "print(\"week 2\")\n",
    "print(week2)\n",
    "print(\"   \")\n",
    "w1_mean=np.mean(week1)\n",
    "w2_mean=np.mean(week2)\n",
    "print(\"w1_mean :\",w1_mean)\n",
    "print(\"w2_mean :\",w2_mean)\n",
    "print(\"   \")\n"
   ]
  },
  {
   "cell_type": "code",
   "execution_count": 4,
   "metadata": {},
   "outputs": [
    {
     "name": "stdout",
     "output_type": "stream",
     "text": [
      "week1 std : 12.532610523375098\n",
      "week2 std : 27.185969231883625\n"
     ]
    }
   ],
   "source": [
    "w1_std=np.std(week1)\n",
    "w2_std=np.std(week2)\n",
    "print(\"week1 std :\",w1_std)\n",
    "print(\"week2 std :\",w2_std)\n"
   ]
  },
  {
   "cell_type": "code",
   "execution_count": 6,
   "metadata": {},
   "outputs": [
    {
     "name": "stdout",
     "output_type": "stream",
     "text": [
      "P_val: 0.053952866327512346\n"
     ]
    }
   ],
   "source": [
    "from scipy.stats import ttest_ind\n",
    "ttest,pval=ttest_ind(week1,week2)\n",
    "print(\"P_val:\",pval)"
   ]
  },
  {
   "cell_type": "code",
   "execution_count": 7,
   "metadata": {},
   "outputs": [
    {
     "name": "stdout",
     "output_type": "stream",
     "text": [
      "accepting\n"
     ]
    }
   ],
   "source": [
    "if pval<0.05:\n",
    "    print(\"Regecting\")\n",
    "else:\n",
    "    print(\"accepting\")"
   ]
  },
  {
   "cell_type": "code",
   "execution_count": 10,
   "metadata": {},
   "outputs": [
    {
     "name": "stdout",
     "output_type": "stream",
     "text": [
      "accepting\n"
     ]
    }
   ],
   "source": [
    "from scipy.stats import ttest_rel\n",
    "ttest,pval=ttest_rel([1,2,3,4,5],[2,3,4,5,9])\n",
    "if pval<0.05:\n",
    "    print(\"Regecting\")\n",
    "else:\n",
    "    print(\"accepting\")"
   ]
  },
  {
   "cell_type": "code",
   "execution_count": null,
   "metadata": {},
   "outputs": [],
   "source": [
    "#z-score-- sample size > 30 , all are independent\n",
    "from statsmodels.stats import weightstats as zstt\n",
    "ztst,pval=zstt.ztest([1,2,3,4],x=[4,5,6,7],value=0,alternative='two-sided')\n",
    "print(\"p_val :\",pval)\n",
    "if pval<0.05:\n",
    "    print(\"Regecting\")\n",
    "else:\n",
    "    print(\"accepting\")\n"
   ]
  },
  {
   "cell_type": "code",
   "execution_count": null,
   "metadata": {},
   "outputs": [],
   "source": []
  }
 ],
 "metadata": {
  "kernelspec": {
   "display_name": "Python 3",
   "language": "python",
   "name": "python3"
  },
  "language_info": {
   "codemirror_mode": {
    "name": "ipython",
    "version": 3
   },
   "file_extension": ".py",
   "mimetype": "text/x-python",
   "name": "python",
   "nbconvert_exporter": "python",
   "pygments_lexer": "ipython3",
   "version": "3.7.4"
  }
 },
 "nbformat": 4,
 "nbformat_minor": 2
}
